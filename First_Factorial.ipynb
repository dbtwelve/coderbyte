{
  "nbformat": 4,
  "nbformat_minor": 0,
  "metadata": {
    "colab": {
      "name": "First Factorial.ipynb",
      "provenance": [],
      "authorship_tag": "ABX9TyN8Tj7OzgAW03x4k6pHRphh",
      "include_colab_link": true
    },
    "kernelspec": {
      "name": "python3",
      "display_name": "Python 3"
    },
    "language_info": {
      "name": "python"
    }
  },
  "cells": [
    {
      "cell_type": "markdown",
      "metadata": {
        "id": "view-in-github",
        "colab_type": "text"
      },
      "source": [
        "<a href=\"https://colab.research.google.com/github/dbtwelve/coderbyte/blob/main/First_Factorial.ipynb\" target=\"_parent\"><img src=\"https://colab.research.google.com/assets/colab-badge.svg\" alt=\"Open In Colab\"/></a>"
      ]
    },
    {
      "cell_type": "markdown",
      "metadata": {
        "id": "IqTRNiRmmIf0"
      },
      "source": [
        "\n",
        "\n",
        "```\n",
        "Input: 4\n",
        "Output: 24\n",
        "\n",
        "Input: 8\n",
        "Output: 40320\n",
        "```\n",
        "\n"
      ]
    },
    {
      "cell_type": "code",
      "metadata": {
        "id": "GmACwsbwmDkR"
      },
      "source": [
        "def FirstFactorial(num):\n",
        "  answer = 1\n",
        "  for i in range(num,0,-1):\n",
        "    answer = answer * i\n",
        "  # code goes here\n",
        "  return answer\n",
        "\n",
        "# keep this function call here \n",
        "print(FirstFactorial(input()))"
      ],
      "execution_count": null,
      "outputs": []
    },
    {
      "cell_type": "code",
      "metadata": {
        "id": "mizH2lm2pEUi"
      },
      "source": [
        "def FirstFactorial(num): \n",
        "    if num == 1:\n",
        "      return 1\n",
        "    else:\n",
        "      return num * FirstFactorial(num-1)\n",
        "    \n",
        "# keep this function call here  \n",
        "print(FirstFactorial(input()))"
      ],
      "execution_count": null,
      "outputs": []
    },
    {
      "cell_type": "code",
      "metadata": {
        "id": "rVXLQLXPpdPq"
      },
      "source": [
        "\n",
        "import math\n",
        "def FirstFactorial(num): \n",
        "\n",
        "    # code goes here \n",
        "    return(math.factorial(num))\n",
        "    \n",
        "# keep this function call here  \n",
        "print(FirstFactorial(input()))"
      ],
      "execution_count": null,
      "outputs": []
    }
  ]
}