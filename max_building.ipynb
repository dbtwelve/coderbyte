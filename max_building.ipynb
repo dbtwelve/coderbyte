{
  "nbformat": 4,
  "nbformat_minor": 0,
  "metadata": {
    "colab": {
      "name": "max_building.ipynb",
      "provenance": [],
      "collapsed_sections": [],
      "authorship_tag": "ABX9TyPQF0I3h/td/reVgU6SvpEB",
      "include_colab_link": true
    },
    "kernelspec": {
      "name": "python3",
      "display_name": "Python 3"
    },
    "language_info": {
      "name": "python"
    }
  },
  "cells": [
    {
      "cell_type": "markdown",
      "metadata": {
        "id": "view-in-github",
        "colab_type": "text"
      },
      "source": [
        "<a href=\"https://colab.research.google.com/github/dbtwelve/coderbyte/blob/main/max_building.ipynb\" target=\"_parent\"><img src=\"https://colab.research.google.com/assets/colab-badge.svg\" alt=\"Open In Colab\"/></a>"
      ]
    },
    {
      "cell_type": "markdown",
      "metadata": {
        "id": "2cuFFXvo3d9N"
      },
      "source": [
        "\n",
        "\n",
        "```\n",
        "numbers = [1,2,1,4,1,5,1]  8\n",
        "\n",
        "numbers = [1,4,12,4,6,5,1]   20\n",
        "```\n",
        "\n",
        "\n"
      ]
    },
    {
      "cell_type": "code",
      "metadata": {
        "colab": {
          "base_uri": "https://localhost:8080/"
        },
        "id": "CmpM7a8R3RlN",
        "outputId": "ddf9ab58-2f56-47e9-8152-c294dd59f64b"
      },
      "source": [
        "#numbers = [1,2,1,4,1,5,1]\n",
        "numbers = [1,4,12,4,6,5,1]\n",
        "\n",
        "max_num = 0\n",
        "\n",
        "for i in range(len(numbers)-1):\n",
        "    count = 0\n",
        "    for j in range(1,len(numbers)):\n",
        "        if numbers[i] <= numbers[j]:\n",
        "            count += numbers[i]\n",
        "            if max_num < count:\n",
        "                max_num = count\n",
        "print(max_num)\n",
        "        \n",
        "\n"
      ],
      "execution_count": null,
      "outputs": [
        {
          "output_type": "stream",
          "text": [
            "20\n"
          ],
          "name": "stdout"
        }
      ]
    },
    {
      "cell_type": "code",
      "metadata": {
        "colab": {
          "base_uri": "https://localhost:8080/"
        },
        "id": "a_8eZic_7Dcz",
        "outputId": "39bafbcd-b554-40e8-edfe-1001c06e2fd9"
      },
      "source": [
        "#numbers = [1,2,1,4,1,5,1]\n",
        "numbers = [1,4,12,4,6,5,1]\n",
        "\n",
        "numbers.sort()\n",
        "max_num = 0\n",
        "prev_num = -1\n",
        "for i in range(len(numbers)):\n",
        "    if prev_num != numbers[i]:\n",
        "        prev_num = numbers[i]\n",
        "        if max_num < numbers[i] * len(numbers[i:]):\n",
        "            max_num = numbers[i] * len(numbers[i:])\n",
        "        print(prev_num, numbers[i],max_num, len(numbers[i:]))\n",
        "        \n",
        "print(max_num)\n"
      ],
      "execution_count": null,
      "outputs": [
        {
          "output_type": "stream",
          "text": [
            "1 1 7 7\n",
            "4 4 20 5\n",
            "5 5 20 3\n",
            "6 6 20 2\n",
            "12 12 20 1\n",
            "20\n"
          ],
          "name": "stdout"
        }
      ]
    }
  ]
}