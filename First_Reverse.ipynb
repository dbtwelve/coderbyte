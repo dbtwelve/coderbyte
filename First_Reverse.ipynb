{
  "nbformat": 4,
  "nbformat_minor": 0,
  "metadata": {
    "colab": {
      "name": "First Reverse.ipynb",
      "provenance": [],
      "authorship_tag": "ABX9TyPTXT4/TTm+qjw+80azi/L9",
      "include_colab_link": true
    },
    "kernelspec": {
      "name": "python3",
      "display_name": "Python 3"
    },
    "language_info": {
      "name": "python"
    }
  },
  "cells": [
    {
      "cell_type": "markdown",
      "metadata": {
        "id": "view-in-github",
        "colab_type": "text"
      },
      "source": [
        "<a href=\"https://colab.research.google.com/github/dbtwelve/coderbyte/blob/main/First_Reverse.ipynb\" target=\"_parent\"><img src=\"https://colab.research.google.com/assets/colab-badge.svg\" alt=\"Open In Colab\"/></a>"
      ]
    },
    {
      "cell_type": "markdown",
      "metadata": {
        "id": "grMPazcKprU8"
      },
      "source": [
        "\n",
        "\n",
        "```\n",
        "Input: \"coderbyte\"\n",
        "Output: etybredoc\n",
        "\n",
        "Input: \"I Love Code\"\n",
        "Output: edoC evoL I\n",
        "```\n",
        "\n"
      ]
    },
    {
      "cell_type": "code",
      "metadata": {
        "id": "u31Z2b8Kpob5"
      },
      "source": [
        "def FirstReverse(strParam):\n",
        "  arr=list(map(str,strParam))\n",
        "  return ''.join(arr[::-1])\n",
        "\n",
        "# keep this function call here \n",
        "print(FirstReverse(input()))"
      ],
      "execution_count": null,
      "outputs": []
    },
    {
      "cell_type": "code",
      "metadata": {
        "id": "vWhcpAh8rKtL"
      },
      "source": [
        "def FirstReverse(str): \n",
        "\n",
        "    # code goes here \n",
        "    return str[::-1]\n",
        "    \n",
        "# keep this function call here  \n",
        "print(FirstReverse(input()))"
      ],
      "execution_count": null,
      "outputs": []
    }
  ]
}