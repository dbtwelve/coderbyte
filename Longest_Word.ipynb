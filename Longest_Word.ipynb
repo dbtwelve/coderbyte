{
  "nbformat": 4,
  "nbformat_minor": 0,
  "metadata": {
    "colab": {
      "name": "Longest Word.ipynb",
      "provenance": [],
      "authorship_tag": "ABX9TyOxeTukph2Xi+qFMhS8M9xQ",
      "include_colab_link": true
    },
    "kernelspec": {
      "name": "python3",
      "display_name": "Python 3"
    },
    "language_info": {
      "name": "python"
    }
  },
  "cells": [
    {
      "cell_type": "markdown",
      "metadata": {
        "id": "view-in-github",
        "colab_type": "text"
      },
      "source": [
        "<a href=\"https://colab.research.google.com/github/dbtwelve/coderbyte/blob/main/Longest_Word.ipynb\" target=\"_parent\"><img src=\"https://colab.research.google.com/assets/colab-badge.svg\" alt=\"Open In Colab\"/></a>"
      ]
    },
    {
      "cell_type": "markdown",
      "metadata": {
        "id": "1rhwbhRniN0P"
      },
      "source": [
        "\n",
        "\n",
        "```\n",
        "Input: \"fun&!! time\"\n",
        "Output: time\n",
        "\n",
        "Input: \"I love dogs\"\n",
        "Output: love\n",
        "```\n",
        "\n"
      ]
    },
    {
      "cell_type": "code",
      "metadata": {
        "id": "SEiVoH0qiIt1"
      },
      "source": [
        "import re\n",
        "def LongestWord(sen):\n",
        "  sen = re.sub(\"[^a-zA-Z|\\s]\",\"\",sen)\n",
        "  arr = sen.split(\" \")\n",
        "  if len(arr) == 1:\n",
        "    return arr[0]\n",
        "  max_len = 0\n",
        "  for i in arr:\n",
        "    if len(i) > max_len:\n",
        "      max_len = len(i)\n",
        "  for i in arr:\n",
        "    if max_len == len(i):\n",
        "      return i\n",
        "    \n",
        "  # code goes here\n",
        "  return arr[0]\n",
        "\n",
        "# keep this function call here \n",
        "print(LongestWord(input()))"
      ],
      "execution_count": null,
      "outputs": []
    },
    {
      "cell_type": "code",
      "metadata": {
        "id": "4QW9jBsjlTuo"
      },
      "source": [
        "import re\n",
        "\n",
        "def LongestWord(sen): \n",
        "  \n",
        "    sen = sen.strip()\n",
        "    cleaned_sen = re.sub('[^A-Za-z]+', ',', sen)\n",
        "    cleaned_sen_list = cleaned_sen.split(',')\n",
        "    \n",
        "    word = ''\n",
        "    for i in cleaned_sen_list:\n",
        "      if len(i) > len(word):\n",
        "        word = i\n",
        "      elif len(i) == len(word):\n",
        "        pass\n",
        "    # code goes here \n",
        "    return word\n",
        "    \n",
        "# keep this function call here  \n",
        "print(LongestWord(input()))"
      ],
      "execution_count": null,
      "outputs": []
    },
    {
      "cell_type": "code",
      "metadata": {
        "id": "wbsPX9cxll3Y"
      },
      "source": [
        "def LongestWord(sen): \n",
        "    max = 0\n",
        "    for word in sen.split():\n",
        "      if (len(word) > max  and word.isalpha()):\n",
        "        max = len(word)\n",
        "        largest = word \n",
        "      # code goes here \n",
        "    return largest\n",
        "    \n",
        "# keep this function call here  \n",
        "print(LongestWord(input()))"
      ],
      "execution_count": null,
      "outputs": []
    },
    {
      "cell_type": "code",
      "metadata": {
        "id": "Y7ilBMszl4rj"
      },
      "source": [
        "\n",
        "import re\n",
        "\n",
        "def LongestWord(sen): \n",
        "    sen = re.sub(\"[^\\w\\s]\", \"\", sen)\n",
        "    lst = sen.split()\n",
        "    max = 0\n",
        "    max_word = \"\"\n",
        "    for i in lst:\n",
        "      if len(i) > max:\n",
        "        max = len(i)\n",
        "        max_word = i\n",
        "  \n",
        "    return max_word\n",
        "    \n",
        "# keep this function call here  \n",
        "print(LongestWord(input()))"
      ],
      "execution_count": null,
      "outputs": []
    }
  ]
}