{
  "nbformat": 4,
  "nbformat_minor": 0,
  "metadata": {
    "colab": {
      "name": "Bracket Matcher.ipynb",
      "provenance": [],
      "authorship_tag": "ABX9TyNB3uxfcrXd9JZB25lvyTfN",
      "include_colab_link": true
    },
    "kernelspec": {
      "name": "python3",
      "display_name": "Python 3"
    },
    "language_info": {
      "name": "python"
    }
  },
  "cells": [
    {
      "cell_type": "markdown",
      "metadata": {
        "id": "view-in-github",
        "colab_type": "text"
      },
      "source": [
        "<a href=\"https://colab.research.google.com/github/dbtwelve/coderbyte/blob/main/Bracket_Matcher.ipynb\" target=\"_parent\"><img src=\"https://colab.research.google.com/assets/colab-badge.svg\" alt=\"Open In Colab\"/></a>"
      ]
    },
    {
      "cell_type": "markdown",
      "metadata": {
        "id": "vvlbGx9wMiih"
      },
      "source": [
        "\n",
        "\n",
        "```\n",
        "Input: \"(coder)(byte))\"\n",
        "Output: 0\n",
        "```\n",
        "\n",
        "\n",
        "\n",
        "```\n",
        "Input: \"(c(oder)) b(yte)\"\n",
        "Output: 1\n",
        "```\n",
        "\n",
        "\n",
        "\n"
      ]
    },
    {
      "cell_type": "code",
      "metadata": {
        "id": "3E6Ii_DuMdg2"
      },
      "source": [
        "import re\n",
        "def BracketMatcher(strParam):\n",
        "  strParam = re.sub(\"[^\\(|\\)]\",\"\",strParam)\n",
        "  open_count = 0\n",
        "  close_count = 0\n",
        "  for i in strParam:\n",
        "    if i == '(':\n",
        "      open_count += 1\n",
        "    if i == ')':\n",
        "      close_count += 1\n",
        "  if open_count == close_count:\n",
        "    return 1\n",
        "      \n",
        "  # code goes here\n",
        "  return 0\n",
        "\n",
        "# keep this function call here \n",
        "print(BracketMatcher(input()))"
      ],
      "execution_count": null,
      "outputs": []
    },
    {
      "cell_type": "code",
      "metadata": {
        "id": "8RQPdImqOGAN"
      },
      "source": [
        "\n",
        "def BracketMatcher(str):\n",
        "    brackets = 0\n",
        "    i = 0\n",
        "    for i in str:\n",
        "        if i == '(': brackets +=1\n",
        "        elif i ==')': brackets -=1\n",
        "        if brackets<0: return 0\n",
        "    if brackets > 0: return 0\n",
        "    # code goes here \n",
        "    return 1\n",
        "    \n",
        "# keep this function call here  \n",
        "print(BracketMatcher(input()))"
      ],
      "execution_count": null,
      "outputs": []
    },
    {
      "cell_type": "code",
      "metadata": {
        "colab": {
          "base_uri": "https://localhost:8080/"
        },
        "id": "Mjr4eDdROTFx",
        "outputId": "929ac3c2-6c29-489c-ebeb-31fd13e257e6"
      },
      "source": [
        "def BracketMatcher(str): \n",
        "    if str.count('(') == str.count(')'):\n",
        "        return 1\n",
        "    return 0\n",
        "# keep this function call here  \n",
        "print(BracketMatcher(input()))"
      ],
      "execution_count": 3,
      "outputs": [
        {
          "output_type": "stream",
          "text": [
            "\"(c(oder)) b(yte)\"\n",
            "1\n"
          ],
          "name": "stdout"
        }
      ]
    }
  ]
}