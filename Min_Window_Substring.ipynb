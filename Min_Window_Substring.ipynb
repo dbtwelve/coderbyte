{
  "nbformat": 4,
  "nbformat_minor": 0,
  "metadata": {
    "colab": {
      "name": "Min Window Substring.ipynb",
      "provenance": [],
      "authorship_tag": "ABX9TyMz5tfxhfcqi1p/xzAkCz9E",
      "include_colab_link": true
    },
    "kernelspec": {
      "name": "python3",
      "display_name": "Python 3"
    },
    "language_info": {
      "name": "python"
    }
  },
  "cells": [
    {
      "cell_type": "markdown",
      "metadata": {
        "id": "view-in-github",
        "colab_type": "text"
      },
      "source": [
        "<a href=\"https://colab.research.google.com/github/dbtwelve/coderbyte/blob/main/Min_Window_Substring.ipynb\" target=\"_parent\"><img src=\"https://colab.research.google.com/assets/colab-badge.svg\" alt=\"Open In Colab\"/></a>"
      ]
    },
    {
      "cell_type": "markdown",
      "metadata": {
        "id": "-fhuHvV-z1lh"
      },
      "source": [
        "# Min Window Substring"
      ]
    },
    {
      "cell_type": "code",
      "metadata": {
        "colab": {
          "base_uri": "https://localhost:8080/"
        },
        "id": "mqOcW8RFzyKz",
        "outputId": "6558a1ec-28b5-4d3f-c6f8-0e9d79e465a9"
      },
      "source": [
        "'''\n",
        "Input: [\"ahffaksfajeeubsne\", \"jefaa\"]\n",
        "Output: aksfaje\n",
        "\n",
        "Input: [\"aaffhkksemckelloe\", \"fhea\"]\n",
        "Output: affhkkse\n",
        "'''\n",
        "arr = [\"ahffaksfajeeubsne\", \"jefaa\"]\n",
        "\n",
        "import collections\n",
        "\n",
        "def MinWindowSubstring(strArr):\n",
        "  print(strArr)\n",
        "  need = collections.Counter(strArr[1]) #찾으려는 문자들의 갯수\n",
        "  counter = len(need)\n",
        "  print(need,counter)\n",
        "  begin = end = head = 0\n",
        "  max_len = 999999999\n",
        "  while end < len(strArr[0]):   #찾으려는 문자가 다 포함될때까지\n",
        "    print (\"first pointer->\",begin,end,counter,strArr[0][end])\n",
        "    if strArr[0][end] in need:\n",
        "      need[strArr[0][end]] -= 1\n",
        "      if need[strArr[0][end]] == 0:\n",
        "        counter -= 1\n",
        "    end += 1\n",
        "    while counter == 0: #문자열이 모두 포함된 begin~end 안에서 다시 찾는다\n",
        "      temp = strArr[0][begin]\n",
        "      print (\"second pointer->\",begin,end,counter,strArr[0][begin:end],max_len,need[temp],temp)\n",
        "      if temp in need:\n",
        "        need[temp] += 1\n",
        "        if need[temp] > 0:\n",
        "          counter += 1\n",
        "      if end - begin < max_len:\n",
        "        max_len = end - begin\n",
        "        head = begin\n",
        "      begin += 1\n",
        "    #print (strArr[0][head:head+max_len])\n",
        "  if max_len == 999999999:\n",
        "      return ''\n",
        "    \n",
        "  # code goes here\n",
        "  return strArr[0][head:head+max_len]\n",
        "\n",
        "# keep this function call here \n",
        "print(MinWindowSubstring(arr))"
      ],
      "execution_count": null,
      "outputs": [
        {
          "output_type": "stream",
          "text": [
            "['ahffaksfajeeubsne', 'jefaa']\n",
            "Counter({'a': 2, 'j': 1, 'e': 1, 'f': 1}) 4\n",
            "first pointer-> 0 0 4 a\n",
            "first pointer-> 0 1 4 h\n",
            "first pointer-> 0 2 4 f\n",
            "first pointer-> 0 3 3 f\n",
            "first pointer-> 0 4 3 a\n",
            "first pointer-> 0 5 2 k\n",
            "first pointer-> 0 6 2 s\n",
            "first pointer-> 0 7 2 f\n",
            "first pointer-> 0 8 2 a\n",
            "first pointer-> 0 9 2 j\n",
            "first pointer-> 0 10 1 e\n",
            "second pointer-> 0 11 0 ahffaksfaje 999999999 -1 a\n",
            "second pointer-> 1 11 0 hffaksfaje 11 0 h\n",
            "second pointer-> 2 11 0 ffaksfaje 10 -2 f\n",
            "second pointer-> 3 11 0 faksfaje 9 -1 f\n",
            "second pointer-> 4 11 0 aksfaje 8 0 a\n",
            "first pointer-> 5 11 1 e\n",
            "first pointer-> 5 12 1 u\n",
            "first pointer-> 5 13 1 b\n",
            "first pointer-> 5 14 1 s\n",
            "first pointer-> 5 15 1 n\n",
            "first pointer-> 5 16 1 e\n",
            "aksfaje\n"
          ],
          "name": "stdout"
        }
      ]
    }
  ]
}