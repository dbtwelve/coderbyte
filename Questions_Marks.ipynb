{
  "nbformat": 4,
  "nbformat_minor": 0,
  "metadata": {
    "colab": {
      "name": "Questions Marks.ipynb",
      "provenance": [],
      "authorship_tag": "ABX9TyNCa25M4MqqQ68c2KahYfrE",
      "include_colab_link": true
    },
    "kernelspec": {
      "name": "python3",
      "display_name": "Python 3"
    },
    "language_info": {
      "name": "python"
    }
  },
  "cells": [
    {
      "cell_type": "markdown",
      "metadata": {
        "id": "view-in-github",
        "colab_type": "text"
      },
      "source": [
        "<a href=\"https://colab.research.google.com/github/dbtwelve/coderbyte/blob/main/Questions_Marks.ipynb\" target=\"_parent\"><img src=\"https://colab.research.google.com/assets/colab-badge.svg\" alt=\"Open In Colab\"/></a>"
      ]
    },
    {
      "cell_type": "markdown",
      "metadata": {
        "id": "_BEfRxu-Xi7_"
      },
      "source": [
        "\n",
        "\n",
        "```\n",
        "Input: \"aa6?9\"\n",
        "Output: false\n",
        "\n",
        "Input: \"acc?7??sss?3rr1??????5\"\n",
        "Output: true\n",
        "```\n",
        "\n"
      ]
    },
    {
      "cell_type": "code",
      "metadata": {
        "id": "gz22ExVaXWc0"
      },
      "source": [
        "def QuestionsMarks(strParam):\n",
        "  count = 0\n",
        "  last_num = -1\n",
        "  start_num = False\n",
        "  for i in strParam:\n",
        "    print(start_num,last_num,count,i)\n",
        "    if start_num and i == \"?\":\n",
        "      count += 1\n",
        "    if i.isdigit():\n",
        "      start_num = True\n",
        "      if last_num >= 0 and ((last_num + int(i)) ==10):\n",
        "        if count == 3:\n",
        "          return \"true\"\n",
        "        else:\n",
        "          return \"false\"\n",
        "      last_num = int(i)\n",
        "      count = 0      \n",
        "  # code goes here\n",
        "  return \"false\"\n",
        "\n",
        "# keep this function call here \n",
        "print(QuestionsMarks(input()))"
      ],
      "execution_count": null,
      "outputs": []
    }
  ]
}