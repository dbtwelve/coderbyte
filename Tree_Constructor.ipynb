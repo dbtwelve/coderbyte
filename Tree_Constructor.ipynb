{
  "nbformat": 4,
  "nbformat_minor": 0,
  "metadata": {
    "colab": {
      "name": "Tree Constructor.ipynb",
      "provenance": [],
      "authorship_tag": "ABX9TyMj2qszxFbXeXtSwVTr6GLG",
      "include_colab_link": true
    },
    "kernelspec": {
      "name": "python3",
      "display_name": "Python 3"
    },
    "language_info": {
      "name": "python"
    }
  },
  "cells": [
    {
      "cell_type": "markdown",
      "metadata": {
        "id": "view-in-github",
        "colab_type": "text"
      },
      "source": [
        "<a href=\"https://colab.research.google.com/github/dbtwelve/coderbyte/blob/main/Tree_Constructor.ipynb\" target=\"_parent\"><img src=\"https://colab.research.google.com/assets/colab-badge.svg\" alt=\"Open In Colab\"/></a>"
      ]
    },
    {
      "cell_type": "markdown",
      "metadata": {
        "id": "5aIUXPLy8Ro5"
      },
      "source": [
        "# Tree Constructor"
      ]
    },
    {
      "cell_type": "code",
      "metadata": {
        "id": "atarooF_8QeH"
      },
      "source": [
        "#[\"(1,2)\", \"(2,4)\", \"(7,2)\"] true\n",
        "#[\"(1,2)\", \"(2,4)\", \"(5,7)\", \"(7,2)\", \"(9,5)\"] true\n",
        "#[\"(1,2)\", \"(3,2)\", \"(2,12)\", \"(5,2)\"] false\n",
        "\n",
        "import re\n",
        "def TreeConstructor(strArr):\n",
        "  child = []\n",
        "  parent = []\n",
        "  for tree in strArr:\n",
        "    tree = re.sub(\"\\(|\\)|\\'|\\\"\",\"\",tree) \n",
        "    c,p = tree.split(\",\")\n",
        "    if c in child:\n",
        "      return \"false\"\n",
        "    else:\n",
        "      child.append(c)\n",
        "      parent.append(p)\n",
        "      if parent.count(p) > 2:\n",
        "        return \"false\"\n",
        "  #print(parent,child)\n",
        "  count = 0\n",
        "  for i in parent:\n",
        "    if child.count(i) == 0:\n",
        "      count += 1\n",
        "  \n",
        "  if count > 1:\n",
        "    return \"false\"\n",
        "    \n",
        "\n",
        "  # code goes here\n",
        "  return \"true\"\n",
        "\n",
        "# keep this function call here \n",
        "print(TreeConstructor(input()))"
      ],
      "execution_count": null,
      "outputs": []
    }
  ]
}