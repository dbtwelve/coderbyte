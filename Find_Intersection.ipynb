{
  "nbformat": 4,
  "nbformat_minor": 0,
  "metadata": {
    "colab": {
      "name": "Find Intersection.ipynb",
      "provenance": [],
      "authorship_tag": "ABX9TyNFgKMQL0rgRcTzU68cw5vN",
      "include_colab_link": true
    },
    "kernelspec": {
      "name": "python3",
      "display_name": "Python 3"
    },
    "language_info": {
      "name": "python"
    }
  },
  "cells": [
    {
      "cell_type": "markdown",
      "metadata": {
        "id": "view-in-github",
        "colab_type": "text"
      },
      "source": [
        "<a href=\"https://colab.research.google.com/github/dbtwelve/coderbyte/blob/main/Find_Intersection.ipynb\" target=\"_parent\"><img src=\"https://colab.research.google.com/assets/colab-badge.svg\" alt=\"Open In Colab\"/></a>"
      ]
    },
    {
      "cell_type": "markdown",
      "metadata": {
        "id": "bPBGe4_GId-N"
      },
      "source": [
        "\n",
        "\n",
        "```\n",
        "Q = [\"1, 3, 4, 7, 13\", \"1, 2, 4, 13, 15\"]\n",
        "A = 1,4,13\n",
        "Q = [\"1, 3, 9, 10, 17, 18\", \"1, 4, 9, 10\"]\n",
        "A = 1,9,10\n",
        "```\n",
        "\n"
      ]
    },
    {
      "cell_type": "code",
      "metadata": {
        "id": "8i3r05UAG4s7"
      },
      "source": [
        "def FindIntersection(strArr):\n",
        "\n",
        "  first = list(map(int,strArr[0].split(\",\")))\n",
        "  second = list(map(int,strArr[1].split(\",\")))\n",
        "  answer = []\n",
        "  for i in first:\n",
        "    if i in second:\n",
        "      answer.append(i)\n",
        "  if len(answer) < 1:\n",
        "    return \"false\"\n",
        "  return answer\n",
        "\n",
        "# keep this function call here \n",
        "print(*FindIntersection(input()),sep = \",\")"
      ],
      "execution_count": null,
      "outputs": []
    },
    {
      "cell_type": "code",
      "metadata": {
        "id": "KdcNFryzLklm"
      },
      "source": [
        "\n",
        "def FindIntersection(strArr):\n",
        "\n",
        "  firstArr = strArr[0].split(\", \")\n",
        "  secondArr = strArr[1].split(\", \")\n",
        "\n",
        "  intersection = []\n",
        "\n",
        "  for number in firstArr:\n",
        "    if number in secondArr:\n",
        "      intersection.append(number)\n",
        "\n",
        "  # code goes here\n",
        "  if len(intersection) > 0:\n",
        "    return \",\".join(intersection)\n",
        "  else:\n",
        "    return \"false\"\n",
        "# keep this function call here \n",
        "print(FindIntersection(input()))"
      ],
      "execution_count": null,
      "outputs": []
    }
  ]
}